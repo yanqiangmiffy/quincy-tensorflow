{
 "cells": [
  {
   "cell_type": "markdown",
   "metadata": {},
   "source": [
    "来源书籍：Natural-Language-Processing-with-TensorFlow"
   ]
  },
  {
   "cell_type": "markdown",
   "metadata": {},
   "source": [
    "## 导入库"
   ]
  },
  {
   "cell_type": "code",
   "execution_count": 1,
   "metadata": {},
   "outputs": [],
   "source": [
    "import tensorflow as tf\n",
    "import numpy as np\n",
    "import os\n",
    "import matplotlib.pyplot as plt\n",
    "import logging\n",
    "%matplotlib inline\n",
    "os.environ['TF_CPP_MIN_LOG_LEVEL'] = '3'\n",
    "logging.getLogger(\"tensorflow\").setLevel(logging.ERROR)"
   ]
  },
  {
   "cell_type": "markdown",
   "metadata": {},
   "source": [
    "## 通过placeholder传递输入\n",
    "sigmoid实例"
   ]
  },
  {
   "cell_type": "code",
   "execution_count": 11,
   "metadata": {},
   "outputs": [
    {
     "name": "stdout",
     "output_type": "stream",
     "text": [
      "[[0.4941275  0.51278746 0.49341637 0.5056394  0.50781184]]\n"
     ]
    }
   ],
   "source": [
    "# 定义graph和session\n",
    "graph = tf.Graph() # 创建图\n",
    "session = tf.InteractiveSession(graph=graph) # 创建会话\n",
    "\n",
    "# 构建图\n",
    "# 创建占位符placeholder\n",
    "x=tf.placeholder(shape=[1,10],dtype=tf.float32,name='x')\n",
    "# 变量 W\n",
    "W=tf.Variable(tf.random_uniform(shape=[10,5],minval=-0.1,maxval=0.1,dtype=tf.float32),name='W')\n",
    "# 变量 b\n",
    "b=tf.Variable(tf.zeros(shape=[5],dtype=tf.float32),name='b')\n",
    "\n",
    "h=tf.nn.sigmoid(tf.matmul(x,W)+b) # sigmoid运算\n",
    "#\n",
    "tf.global_variables_initializer().run() # 初始化全局变量\n",
    "\n",
    "# 传给x值\n",
    "h_eval=session.run(h,feed_dict={x:np.random.rand(1,10)})\n",
    "print(h_eval)\n",
    "session.close()"
   ]
  },
  {
   "cell_type": "markdown",
   "metadata": {},
   "source": [
    "## 通过TensorFlow 张量传递输入"
   ]
  },
  {
   "cell_type": "code",
   "execution_count": 10,
   "metadata": {},
   "outputs": [
    {
     "name": "stdout",
     "output_type": "stream",
     "text": [
      "[[0.5038708  0.51638865 0.48006743 0.49199152 0.461249  ]]\n"
     ]
    }
   ],
   "source": [
    "# 定义图\n",
    "graph=tf.Graph()\n",
    "session=tf.InteractiveSession(graph=graph)\n",
    "\n",
    "# 构建图\n",
    "\n",
    "# 声明x并赋值,\n",
    "x=tf.constant(value=[[0.1,0.2,0.3,0.4,0.5,0.6,0.7,0.8,0.9,1.0]],dtype=tf.float32,name='x')\n",
    "\n",
    "# 变量 W\n",
    "W=tf.Variable(tf.random_uniform(shape=[10,5],minval=-0.1,maxval=0.1,dtype=tf.float32),name='W')\n",
    "# 变量 b\n",
    "b=tf.Variable(tf.zeros(shape=[5],dtype=tf.float32),name='b')\n",
    "\n",
    "h=tf.nn.sigmoid(tf.matmul(x,W)+b) # 计算\n",
    "\n",
    "# 初始化变量\n",
    "tf.global_variables_initializer().run()\n",
    "\n",
    "# 直接计算\n",
    "h_eval=session.run(h)\n",
    "print(h_eval)\n",
    "\n",
    "# 关闭会话\n",
    "session.close()"
   ]
  },
  {
   "cell_type": "markdown",
   "metadata": {},
   "source": [
    "## 定义TensorFlow操作"
   ]
  },
  {
   "cell_type": "markdown",
   "metadata": {},
   "source": [
    "### 比较操作"
   ]
  },
  {
   "cell_type": "code",
   "execution_count": 15,
   "metadata": {},
   "outputs": [
    {
     "name": "stdout",
     "output_type": "stream",
     "text": [
      "x_equal_y:\n",
      " [[False False]\n",
      " [ True False]]\n",
      "x_less_y:\n",
      " [[ True  True]\n",
      " [False False]]\n",
      "x_great_equal_y\n",
      " [[False False]\n",
      " [ True  True]]\n",
      "x_cond_y\n",
      " [[1. 3.]\n",
      " [3. 2.]]\n"
     ]
    }
   ],
   "source": [
    "graph=tf.Graph()\n",
    "session=tf.InteractiveSession()\n",
    "\n",
    "\n",
    "x=tf.constant([[1,2],[3,4]],dtype=tf.float32)\n",
    "y=tf.constant([[4,3],[3,2]],dtype=tf.float32)\n",
    "\n",
    "# 是否相等\n",
    "x_equal_y=tf.equal(x,y,name=\"x_y_equalop\")\n",
    "print(\"x_equal_y:\\n\",session.run(x_equal_y))\n",
    "\n",
    "# 是否小于\n",
    "x_less_y=tf.less(x,y,name='x_less_y')\n",
    "print(\"x_less_y:\\n\",session.run(x_less_y))\n",
    "\n",
    "# 是否大于等于\n",
    "x_great_equal_y=tf.greater_equal(x,y,name=\"x_great_equal_y\")\n",
    "print(\"x_great_equal_y\\n\",session.run(x_great_equal_y))\n",
    "\n",
    "# 根据条件选取数据\n",
    "# 从x选取数据，不满足则从y中抽取数据\n",
    "condition=tf.constant([[True,False],[True,False]],dtype=tf.bool)\n",
    "x_cond_y=tf.where(condition,x,y,name='x_cond_y')\n",
    "print(\"x_cond_y\\n\",session.run(x_cond_y))\n"
   ]
  },
  {
   "cell_type": "markdown",
   "metadata": {},
   "source": [
    "## 创建 Tensorflow Pipeline"
   ]
  },
  {
   "cell_type": "code",
   "execution_count": 14,
   "metadata": {},
   "outputs": [],
   "source": [
    "# 定义图和会话\n",
    "graph=tf.Graph()\n",
    "session=tf.InteractiveSession(graph=graph)\n",
    "\n",
    "# 文件\n",
    "filenames=['data/19/test%d.txt' %i for i in range(1,4)]\n",
    "filename_queue=tf.train.string_input_producer(filenames,capacity=3,shuffle=True,name='string_input_producer')"
   ]
  },
  {
   "cell_type": "code",
   "execution_count": 15,
   "metadata": {},
   "outputs": [
    {
     "name": "stdout",
     "output_type": "stream",
     "text": [
      "File data/19/test1.txt found.\n",
      "File data/19/test2.txt found.\n",
      "File data/19/test3.txt found.\n"
     ]
    }
   ],
   "source": [
    "# 检查文件是否存在\n",
    "for f in filenames:\n",
    "    if not tf.gfile.Exists(f):\n",
    "        raise ValueError('Failed to find file: ' + f)\n",
    "    else:\n",
    "        print('File %s found.'%f)"
   ]
  },
  {
   "cell_type": "code",
   "execution_count": 18,
   "metadata": {},
   "outputs": [],
   "source": [
    "reader=tf.TextLineReader()\n",
    "key, value = reader.read(filename_queue, name='text_read_op')\n",
    "\n",
    "# 默认值\n",
    "record_defaults = [[-1.0], [-1.0], [-1.0], [-1.0], [-1.0], [-1.0], [-1.0], [-1.0], [-1.0], [-1.0]]\n",
    "col1, col2, col3, col4, col5, col6, col7, col8, col9, col10 = tf.decode_csv(value, record_defaults=record_defaults)\n",
    "features = tf.stack([col1, col2, col3, col4, col5, col6, col7, col8, col9, col10])\n",
    "\n",
    "x = tf.train.shuffle_batch([features], batch_size=3,\n",
    "                           capacity=5, name='data_batch', \n",
    "                           min_after_dequeue=1,num_threads=1)\n",
    "\n",
    "coord = tf.train.Coordinator()\n",
    "threads = tf.train.start_queue_runners(coord=coord, sess=session)"
   ]
  },
  {
   "cell_type": "code",
   "execution_count": 21,
   "metadata": {},
   "outputs": [
    {
     "name": "stdout",
     "output_type": "stream",
     "text": [
      "========== Step 0 ==========\n",
      "Evaluated data (x)\n",
      "[[0.1 0.1 0.1 0.1 0.1 0.1 0.1 0.1 0.1 0.1]\n",
      " [0.1 0.1 0.1 0.1 0.1 0.1 0.1 0.1 0.1 0.1]\n",
      " [0.1 0.1 0.1 0.1 0.1 0.1 0.1 0.1 0.1 0.1]]\n",
      "Evaluated data (h)\n",
      "[[0.5049817  0.49255627 0.5058895  0.50510323 0.50227076]\n",
      " [0.5049817  0.49255627 0.5058895  0.50510323 0.5022707 ]\n",
      " [0.50498176 0.4925563  0.5058895  0.50510323 0.5022707 ]]\n",
      "\n",
      "========== Step 1 ==========\n",
      "Evaluated data (x)\n",
      "[[0.1 0.1 0.1 0.1 0.1 0.1 0.1 0.1 0.1 0.1]\n",
      " [1.  0.9 0.8 0.7 0.6 0.5 0.4 0.3 0.2 0.1]\n",
      " [0.1 0.1 0.1 0.1 0.1 0.1 0.1 0.1 0.1 0.1]]\n",
      "Evaluated data (h)\n",
      "[[0.5049817  0.49255627 0.5058895  0.50510323 0.50227076]\n",
      " [0.5438934  0.44402477 0.5267701  0.5240376  0.50090057]\n",
      " [0.50498176 0.4925563  0.5058895  0.50510323 0.5022707 ]]\n",
      "\n",
      "========== Step 2 ==========\n",
      "Evaluated data (x)\n",
      "[[1.  0.9 0.8 0.7 0.6 0.5 0.4 0.3 0.2 0.1]\n",
      " [1.  0.9 0.8 0.7 0.6 0.5 0.4 0.3 0.2 0.1]\n",
      " [1.  0.9 0.8 0.7 0.6 0.5 0.4 0.3 0.2 0.1]]\n",
      "Evaluated data (h)\n",
      "[[0.5438934  0.44402477 0.5267701  0.52403754 0.50090057]\n",
      " [0.5438934  0.44402477 0.5267701  0.5240376  0.50090057]\n",
      " [0.5438934  0.44402474 0.5267701  0.5240376  0.50090057]]\n",
      "\n",
      "========== Step 3 ==========\n",
      "Evaluated data (x)\n",
      "[[0.1 0.2 0.3 0.4 0.5 0.6 0.7 0.8 0.9 1. ]\n",
      " [1.  0.9 0.8 0.7 0.6 0.5 0.4 0.3 0.2 0.1]\n",
      " [0.1 0.2 0.3 0.4 0.5 0.6 0.7 0.8 0.9 1. ]]\n",
      "Evaluated data (h)\n",
      "[[0.5107923  0.4743464  0.53791875 0.5320375  0.52405906]\n",
      " [0.5438934  0.44402477 0.5267701  0.5240376  0.50090057]\n",
      " [0.5107924  0.47434637 0.53791875 0.53203744 0.52405906]]\n",
      "\n",
      "========== Step 4 ==========\n",
      "Evaluated data (x)\n",
      "[[0.1 0.2 0.3 0.4 0.5 0.6 0.7 0.8 0.9 1. ]\n",
      " [0.1 0.2 0.3 0.4 0.5 0.6 0.7 0.8 0.9 1. ]\n",
      " [0.1 0.2 0.3 0.4 0.5 0.6 0.7 0.8 0.9 1. ]]\n",
      "Evaluated data (h)\n",
      "[[0.5107923  0.4743464  0.53791875 0.5320375  0.52405906]\n",
      " [0.5107923  0.4743464  0.53791875 0.53203744 0.52405906]\n",
      " [0.5107924  0.47434637 0.53791875 0.53203744 0.52405906]]\n",
      "\n"
     ]
    }
   ],
   "source": [
    "W = tf.Variable(tf.random_uniform(shape=[10,5], minval=-0.1, maxval=0.1, dtype=tf.float32),name='W') \n",
    "b = tf.Variable(tf.zeros(shape=[5],dtype=tf.float32),name='b') \n",
    "h = tf.nn.sigmoid(tf.matmul(x,W) + b)\n",
    "tf.global_variables_initializer().run()\n",
    "for step in range(5):\n",
    "    x_eval, h_eval = session.run([x,h]) \n",
    "    print('========== Step %d =========='%step)\n",
    "    print('Evaluated data (x)')\n",
    "    print(x_eval)\n",
    "    print('Evaluated data (h)')\n",
    "    print(h_eval)\n",
    "    print('')\n",
    "\n",
    "coord.request_stop()\n",
    "coord.join(threads)\n",
    "session.close()"
   ]
  },
  {
   "cell_type": "markdown",
   "metadata": {},
   "source": [
    "## TF实现损失函数\n",
    "- MSE\n",
    "- Cross Entropy Loss"
   ]
  },
  {
   "cell_type": "code",
   "execution_count": 25,
   "metadata": {},
   "outputs": [
    {
     "name": "stdout",
     "output_type": "stream",
     "text": [
      "MSE Loss:  2.0\n",
      "CE Loss:  0.08775769\n"
     ]
    }
   ],
   "source": [
    "# 定义图和会话\n",
    "graph=tf.Graph()\n",
    "session=tf.InteractiveSession(graph=graph)\n",
    "\n",
    "x=tf.constant([[2,4],[6,8]],dtype=tf.float32)\n",
    "x_hat=tf.constant([[3,5],[7,9]],dtype=tf.float32)\n",
    "# MSE=（1**2+1**2+1**2+1**2）/2\n",
    "MSE=tf.nn.l2_loss(x_hat-x)\n",
    "\n",
    "# cross_entropy with logits \n",
    "y=tf.constant([[1,0],[0,1]],dtype=tf.float32)\n",
    "y_hat=tf.constant([[3,1],[2,5]],dtype=tf.float32)\n",
    "\n",
    "CE=tf.reduce_mean(tf.nn.softmax_cross_entropy_with_logits_v2(logits=y_hat,labels=y))\n",
    "\n",
    "print('MSE Loss: ',session.run(MSE))\n",
    "print('CE Loss: ',session.run(CE))\n",
    "session.close()"
   ]
  },
  {
   "cell_type": "markdown",
   "metadata": {},
   "source": [
    "## 实现第一个神经网络"
   ]
  },
  {
   "cell_type": "markdown",
   "metadata": {},
   "source": [
    "### 下载数据"
   ]
  },
  {
   "cell_type": "code",
   "execution_count": 22,
   "metadata": {
    "scrolled": false
   },
   "outputs": [
    {
     "name": "stdout",
     "output_type": "stream",
     "text": [
      "Found and verified data/19/train-images-idx3-ubyte.gz\n",
      "Found and verified data/19/train-labels-idx1-ubyte.gz\n",
      "Found and verified data/19/t10k-images-idx3-ubyte.gz\n",
      "Found and verified data/19/t10k-labels-idx1-ubyte.gz\n",
      "\n",
      "Reading files data/19/train-images-idx3-ubyte.gz and data/19/train-labels-idx1-ubyte.gz\n",
      "60000 28 28\n",
      "(Images) Returned a tensor of shape  (60000, 784)\n",
      "(Labels) Returned a tensor of shape: 60000\n",
      "Sample labels:  [5 0 4 1 9 2 1 3 1 4]\n",
      "\n",
      "Reading files data/19/t10k-images-idx3-ubyte.gz and data/19/t10k-labels-idx1-ubyte.gz\n",
      "10000 28 28\n",
      "(Images) Returned a tensor of shape  (10000, 784)\n",
      "(Labels) Returned a tensor of shape: 10000\n",
      "Sample labels:  [7 2 1 0 4 1 4 9 5 9]\n"
     ]
    }
   ],
   "source": [
    "import struct\n",
    "import gzip\n",
    "import os\n",
    "from six.moves.urllib.request import urlretrieve\n",
    "\n",
    "def maybe_download(url, filename, expected_bytes, force=False):\n",
    "  \"\"\"Download a file if not present, and make sure it's the right size.\"\"\"\n",
    "  if force or not os.path.exists(filename):\n",
    "    print('Attempting to download:', filename) \n",
    "    filename, _ = urlretrieve(url + filename, filename)\n",
    "    print('\\nDownload Complete!')\n",
    "  statinfo = os.stat(filename)\n",
    "  if statinfo.st_size == expected_bytes:\n",
    "    print('Found and verified', filename)\n",
    "  else:\n",
    "    raise Exception(\n",
    "      'Failed to verify ' + filename + '. Can you get to it with a browser?')\n",
    "  return filename\n",
    "\n",
    "\n",
    "def read_mnist(fname_img, fname_lbl):\n",
    "    print('\\nReading files %s and %s'%(fname_img, fname_lbl))\n",
    "    \n",
    "    with gzip.open(fname_img) as fimg:        \n",
    "        magic, num, rows, cols = struct.unpack(\">IIII\", fimg.read(16))\n",
    "        print(num,rows,cols)\n",
    "        img = (np.frombuffer(fimg.read(num*rows*cols), dtype=np.uint8).reshape(num, rows * cols)).astype(np.float32)\n",
    "        print('(Images) Returned a tensor of shape ',img.shape)\n",
    "        \n",
    "        img = (img - np.mean(img))/np.std(img)\n",
    "        \n",
    "    with gzip.open(fname_lbl) as flbl:\n",
    "        # flbl.read(8) reads upto 8 bytes\n",
    "        magic, num = struct.unpack(\">II\", flbl.read(8))        \n",
    "        lbl = np.frombuffer(flbl.read(num), dtype=np.int8)\n",
    "        print('(Labels) Returned a tensor of shape: %s'%lbl.shape)\n",
    "        print('Sample labels: ',lbl[:10])\n",
    "        \n",
    "    return img, lbl\n",
    "    \n",
    "    \n",
    "# Download data if needed\n",
    "url = 'http://yann.lecun.com/exdb/mnist/'\n",
    "# training data\n",
    "maybe_download(url,'data/19/train-images-idx3-ubyte.gz',9912422)\n",
    "maybe_download(url,'data/19/train-labels-idx1-ubyte.gz',28881)\n",
    "# testing data\n",
    "maybe_download(url,'data/19/t10k-images-idx3-ubyte.gz',1648877)\n",
    "maybe_download(url,'data/19/t10k-labels-idx1-ubyte.gz',4542)\n",
    "\n",
    "# Read the training and testing data \n",
    "train_inputs, train_labels = read_mnist('data/19/train-images-idx3-ubyte.gz', 'data/19/train-labels-idx1-ubyte.gz')\n",
    "test_inputs, test_labels = read_mnist('data/19/t10k-images-idx3-ubyte.gz', 'data/19/t10k-labels-idx1-ubyte.gz')"
   ]
  },
  {
   "cell_type": "markdown",
   "metadata": {},
   "source": [
    "### 定义参数"
   ]
  },
  {
   "cell_type": "code",
   "execution_count": 35,
   "metadata": {},
   "outputs": [],
   "source": [
    "batch_size=100\n",
    "img_width,img_height=28,28\n",
    "input_size=img_width*img_height\n",
    "num_labels=10\n",
    "tf.reset_default_graph()"
   ]
  },
  {
   "cell_type": "markdown",
   "metadata": {},
   "source": [
    "### 定义输入和输出占位符"
   ]
  },
  {
   "cell_type": "code",
   "execution_count": 36,
   "metadata": {},
   "outputs": [],
   "source": [
    "tf_inputs=tf.placeholder(shape=[batch_size,input_size],dtype=tf.float32,name=\"inputs\")\n",
    "tf_labels=tf.placeholder(shape=[batch_size,num_labels],dtype=tf.float32,name=\"lables\")"
   ]
  },
  {
   "cell_type": "markdown",
   "metadata": {},
   "source": [
    "## 定义weights和bias变量"
   ]
  },
  {
   "cell_type": "code",
   "execution_count": 37,
   "metadata": {},
   "outputs": [],
   "source": [
    "def define_net_parameters():\n",
    "    with tf.variable_scope('layer1'):\n",
    "        tf.get_variable('weights',shape=[input_size,500],\n",
    "                        initializer=tf.random_normal_initializer(0,0.02))\n",
    "        tf.get_variable('bias', shape=[500],\n",
    "                           initializer=tf.random_uniform_initializer(0,0.01))\n",
    "        \n",
    "    with tf.variable_scope('layer2'):\n",
    "        tf.get_variable('weights',shape=[500,250],\n",
    "                            initializer=tf.random_normal_initializer(0,0.02))\n",
    "        tf.get_variable('bias', shape=[250],\n",
    "                           initializer=tf.random_uniform_initializer(0,0.01))\n",
    "    \n",
    "    with tf.variable_scope('output'):\n",
    "        tf.get_variable('weights',shape=[250,10],\n",
    "                            initializer=tf.random_normal_initializer(0,0.02))\n",
    "        tf.get_variable('bias', shape=[10],\n",
    "                           initializer=tf.random_uniform_initializer(0,0.01))"
   ]
  },
  {
   "cell_type": "markdown",
   "metadata": {},
   "source": [
    "### 定义inference操作"
   ]
  },
  {
   "cell_type": "code",
   "execution_count": 38,
   "metadata": {},
   "outputs": [],
   "source": [
    "def inference(x):\n",
    "    # calculations for layer 1\n",
    "    with tf.variable_scope('layer1',reuse=True):\n",
    "        w,b = tf.get_variable('weights'), tf.get_variable('bias')\n",
    "        tf_h1 = tf.nn.relu(tf.matmul(x,w) + b, name = 'hidden1')\n",
    "\n",
    "    # calculations for layer 2\n",
    "    with tf.variable_scope('layer2',reuse=True):\n",
    "        w,b = tf.get_variable('weights'), tf.get_variable('bias')\n",
    "        tf_h2 = tf.nn.relu(tf.matmul(tf_h1,w) + b, name = 'hidden1')\n",
    "\n",
    "    # calculations for output layer\n",
    "    with tf.variable_scope('output',reuse=True):\n",
    "        w,b = tf.get_variable('weights'), tf.get_variable('bias')\n",
    "        tf_logits = tf.nn.bias_add(tf.matmul(tf_h2,w), b, name = 'logits')\n",
    "\n",
    "    return tf_logits"
   ]
  },
  {
   "cell_type": "markdown",
   "metadata": {},
   "source": [
    "### 定义loss和optimizer"
   ]
  },
  {
   "cell_type": "code",
   "execution_count": 39,
   "metadata": {},
   "outputs": [],
   "source": [
    "define_net_parameters()\n",
    "\n",
    "# defining the loss\n",
    "tf_loss = tf.reduce_mean(tf.nn.softmax_cross_entropy_with_logits_v2(logits=inference(tf_inputs), labels=tf_labels))\n",
    "\n",
    "# defining the optimize function\n",
    "tf_loss_minimize = tf.train.MomentumOptimizer(momentum=0.9,learning_rate=0.01).minimize(tf_loss)"
   ]
  },
  {
   "cell_type": "markdown",
   "metadata": {},
   "source": [
    "### 定义预测"
   ]
  },
  {
   "cell_type": "code",
   "execution_count": 40,
   "metadata": {},
   "outputs": [],
   "source": [
    "# defining predictions\n",
    "tf_predictions = tf.nn.softmax(inference(tf_inputs))"
   ]
  },
  {
   "cell_type": "markdown",
   "metadata": {},
   "source": [
    "### 训练"
   ]
  },
  {
   "cell_type": "code",
   "execution_count": 41,
   "metadata": {
    "scrolled": false
   },
   "outputs": [
    {
     "name": "stderr",
     "output_type": "stream",
     "text": [
      "D:\\ProgramData\\Anaconda3\\lib\\site-packages\\tensorflow\\python\\client\\session.py:1735: UserWarning: An interactive session is already active. This can cause out-of-memory errors in some cases. You must explicitly call `InteractiveSession.close()` to release resources held by the other session(s).\n",
      "  warnings.warn('An interactive session is already active. This can '\n"
     ]
    },
    {
     "name": "stdout",
     "output_type": "stream",
     "text": [
      "Sample labels (one-hot)\n",
      "[[0. 0. 0. 0. 0. 1. 0. 0. 0. 0.]\n",
      " [1. 0. 0. 0. 0. 0. 0. 0. 0. 0.]\n",
      " [0. 0. 0. 0. 1. 0. 0. 0. 0. 0.]\n",
      " [0. 1. 0. 0. 0. 0. 0. 0. 0. 0.]\n",
      " [0. 0. 0. 0. 0. 0. 0. 0. 0. 1.]\n",
      " [0. 0. 1. 0. 0. 0. 0. 0. 0. 0.]\n",
      " [0. 1. 0. 0. 0. 0. 0. 0. 0. 0.]\n",
      " [0. 0. 0. 1. 0. 0. 0. 0. 0. 0.]\n",
      " [0. 1. 0. 0. 0. 0. 0. 0. 0. 0.]\n",
      " [0. 0. 0. 0. 1. 0. 0. 0. 0. 0.]]\n",
      "\n",
      "Average train loss for the 1 epoch: 0.444\n",
      "\n",
      "\tAverage test accuracy for the 1 epoch: 94.42\n",
      "\n",
      "Average train loss for the 2 epoch: 0.139\n",
      "\n",
      "\tAverage test accuracy for the 2 epoch: 96.08\n",
      "\n",
      "Average train loss for the 3 epoch: 0.089\n",
      "\n",
      "\tAverage test accuracy for the 3 epoch: 96.85\n",
      "\n",
      "Average train loss for the 4 epoch: 0.063\n",
      "\n",
      "\tAverage test accuracy for the 4 epoch: 97.22\n",
      "\n",
      "Average train loss for the 5 epoch: 0.046\n",
      "\n",
      "\tAverage test accuracy for the 5 epoch: 97.61\n",
      "\n",
      "Average train loss for the 6 epoch: 0.034\n",
      "\n",
      "\tAverage test accuracy for the 6 epoch: 97.72\n",
      "\n",
      "Average train loss for the 7 epoch: 0.025\n",
      "\n",
      "\tAverage test accuracy for the 7 epoch: 97.77\n",
      "\n",
      "Average train loss for the 8 epoch: 0.018\n",
      "\n",
      "\tAverage test accuracy for the 8 epoch: 97.98\n",
      "\n",
      "Average train loss for the 9 epoch: 0.014\n",
      "\n",
      "\tAverage test accuracy for the 9 epoch: 98.08\n",
      "\n",
      "Average train loss for the 10 epoch: 0.010\n",
      "\n",
      "\tAverage test accuracy for the 10 epoch: 98.02\n",
      "\n",
      "Average train loss for the 11 epoch: 0.008\n",
      "\n",
      "\tAverage test accuracy for the 11 epoch: 98.03\n",
      "\n",
      "Average train loss for the 12 epoch: 0.006\n",
      "\n",
      "\tAverage test accuracy for the 12 epoch: 98.09\n",
      "\n",
      "Average train loss for the 13 epoch: 0.004\n",
      "\n",
      "\tAverage test accuracy for the 13 epoch: 98.19\n",
      "\n",
      "Average train loss for the 14 epoch: 0.003\n",
      "\n",
      "\tAverage test accuracy for the 14 epoch: 98.21\n",
      "\n",
      "Average train loss for the 15 epoch: 0.002\n",
      "\n",
      "\tAverage test accuracy for the 15 epoch: 98.22\n",
      "\n",
      "Average train loss for the 16 epoch: 0.002\n",
      "\n",
      "\tAverage test accuracy for the 16 epoch: 98.25\n",
      "\n",
      "Average train loss for the 17 epoch: 0.002\n",
      "\n",
      "\tAverage test accuracy for the 17 epoch: 98.29\n",
      "\n",
      "Average train loss for the 18 epoch: 0.001\n",
      "\n",
      "\tAverage test accuracy for the 18 epoch: 98.31\n",
      "\n",
      "Average train loss for the 19 epoch: 0.001\n",
      "\n",
      "\tAverage test accuracy for the 19 epoch: 98.32\n",
      "\n",
      "Average train loss for the 20 epoch: 0.001\n",
      "\n",
      "\tAverage test accuracy for the 20 epoch: 98.34\n",
      "\n",
      "Average train loss for the 21 epoch: 0.001\n",
      "\n",
      "\tAverage test accuracy for the 21 epoch: 98.36\n",
      "\n",
      "Average train loss for the 22 epoch: 0.001\n",
      "\n",
      "\tAverage test accuracy for the 22 epoch: 98.37\n",
      "\n",
      "Average train loss for the 23 epoch: 0.001\n",
      "\n",
      "\tAverage test accuracy for the 23 epoch: 98.36\n",
      "\n",
      "Average train loss for the 24 epoch: 0.001\n",
      "\n",
      "\tAverage test accuracy for the 24 epoch: 98.36\n",
      "\n",
      "Average train loss for the 25 epoch: 0.001\n",
      "\n",
      "\tAverage test accuracy for the 25 epoch: 98.36\n",
      "\n",
      "Average train loss for the 26 epoch: 0.001\n",
      "\n",
      "\tAverage test accuracy for the 26 epoch: 98.36\n",
      "\n",
      "Average train loss for the 27 epoch: 0.001\n",
      "\n",
      "\tAverage test accuracy for the 27 epoch: 98.36\n",
      "\n",
      "Average train loss for the 28 epoch: 0.001\n",
      "\n",
      "\tAverage test accuracy for the 28 epoch: 98.36\n",
      "\n",
      "Average train loss for the 29 epoch: 0.001\n",
      "\n",
      "\tAverage test accuracy for the 29 epoch: 98.35\n",
      "\n",
      "Average train loss for the 30 epoch: 0.000\n",
      "\n",
      "\tAverage test accuracy for the 30 epoch: 98.35\n",
      "\n",
      "Average train loss for the 31 epoch: 0.000\n",
      "\n",
      "\tAverage test accuracy for the 31 epoch: 98.34\n",
      "\n",
      "Average train loss for the 32 epoch: 0.000\n",
      "\n",
      "\tAverage test accuracy for the 32 epoch: 98.34\n",
      "\n",
      "Average train loss for the 33 epoch: 0.000\n",
      "\n",
      "\tAverage test accuracy for the 33 epoch: 98.34\n",
      "\n",
      "Average train loss for the 34 epoch: 0.000\n",
      "\n",
      "\tAverage test accuracy for the 34 epoch: 98.34\n",
      "\n",
      "Average train loss for the 35 epoch: 0.000\n",
      "\n",
      "\tAverage test accuracy for the 35 epoch: 98.33\n",
      "\n",
      "Average train loss for the 36 epoch: 0.000\n",
      "\n",
      "\tAverage test accuracy for the 36 epoch: 98.33\n",
      "\n",
      "Average train loss for the 37 epoch: 0.000\n",
      "\n",
      "\tAverage test accuracy for the 37 epoch: 98.32\n",
      "\n",
      "Average train loss for the 38 epoch: 0.000\n",
      "\n",
      "\tAverage test accuracy for the 38 epoch: 98.33\n",
      "\n",
      "Average train loss for the 39 epoch: 0.000\n",
      "\n",
      "\tAverage test accuracy for the 39 epoch: 98.33\n",
      "\n",
      "Average train loss for the 40 epoch: 0.000\n",
      "\n",
      "\tAverage test accuracy for the 40 epoch: 98.33\n",
      "\n",
      "Average train loss for the 41 epoch: 0.000\n",
      "\n",
      "\tAverage test accuracy for the 41 epoch: 98.33\n",
      "\n",
      "Average train loss for the 42 epoch: 0.000\n",
      "\n",
      "\tAverage test accuracy for the 42 epoch: 98.33\n",
      "\n",
      "Average train loss for the 43 epoch: 0.000\n",
      "\n",
      "\tAverage test accuracy for the 43 epoch: 98.33\n",
      "\n",
      "Average train loss for the 44 epoch: 0.000\n",
      "\n",
      "\tAverage test accuracy for the 44 epoch: 98.33\n",
      "\n",
      "Average train loss for the 45 epoch: 0.000\n",
      "\n",
      "\tAverage test accuracy for the 45 epoch: 98.33\n",
      "\n",
      "Average train loss for the 46 epoch: 0.000\n",
      "\n",
      "\tAverage test accuracy for the 46 epoch: 98.34\n",
      "\n",
      "Average train loss for the 47 epoch: 0.000\n",
      "\n",
      "\tAverage test accuracy for the 47 epoch: 98.34\n",
      "\n",
      "Average train loss for the 48 epoch: 0.000\n",
      "\n",
      "\tAverage test accuracy for the 48 epoch: 98.34\n",
      "\n",
      "Average train loss for the 49 epoch: 0.000\n",
      "\n",
      "\tAverage test accuracy for the 49 epoch: 98.34\n",
      "\n",
      "Average train loss for the 50 epoch: 0.000\n",
      "\n",
      "\tAverage test accuracy for the 50 epoch: 98.35\n",
      "\n"
     ]
    }
   ],
   "source": [
    "session = tf.InteractiveSession()\n",
    "\n",
    "tf.global_variables_initializer().run()\n",
    "\n",
    "NUM_EPOCHS = 50\n",
    "\n",
    "def accuracy(predictions, labels):\n",
    "    ''' Measure the classification accuracy of some predictions (softmax outputs) \n",
    "    and labels (integer class labels)'''\n",
    "    return np.sum(np.argmax(predictions,axis=1).flatten()==labels.flatten())/batch_size\n",
    "\n",
    "test_accuracy_over_time = []\n",
    "train_loss_over_time = []\n",
    "for epoch in range(NUM_EPOCHS):\n",
    "    train_loss = []\n",
    "    \n",
    "    # Training Phase \n",
    "    for step in range(train_inputs.shape[0]//batch_size):\n",
    "        # Creating one-hot encoded labels with labels\n",
    "        # One-hot encoding dight 3 for 10-class MNIST data set will result in\n",
    "        # [0,0,0,1,0,0,0,0,0,0]\n",
    "        labels_one_hot = np.zeros((batch_size, num_labels),dtype=np.float32)\n",
    "        labels_one_hot[np.arange(batch_size),train_labels[step*batch_size:(step+1)*batch_size]] = 1.0\n",
    "        \n",
    "        # Printing the one-hot labels\n",
    "        if epoch ==0 and step==0:\n",
    "            print('Sample labels (one-hot)')\n",
    "            print(labels_one_hot[:10])\n",
    "            print()\n",
    "        \n",
    "        # Running the optimization process\n",
    "        loss, _ = session.run([tf_loss,tf_loss_minimize],feed_dict={\n",
    "            tf_inputs: train_inputs[step*batch_size: (step+1)*batch_size,:],\n",
    "            tf_labels: labels_one_hot}\n",
    "                             )\n",
    "        train_loss.append(loss) # Used to average the loss for a single epoch\n",
    "        \n",
    "    test_accuracy = []\n",
    "    # Testing Phase\n",
    "    for step in range(test_inputs.shape[0]//batch_size):\n",
    "        test_predictions = session.run(tf_predictions,feed_dict={tf_inputs: test_inputs[step*batch_size: (step+1)*batch_size,:]})\n",
    "        batch_test_accuracy = accuracy(test_predictions,test_labels[step*batch_size: (step+1)*batch_size])        \n",
    "        test_accuracy.append(batch_test_accuracy)\n",
    "    \n",
    "    print('Average train loss for the %d epoch: %.3f\\n'%(epoch+1,np.mean(train_loss)))\n",
    "    train_loss_over_time.append(np.mean(train_loss))\n",
    "    print('\\tAverage test accuracy for the %d epoch: %.2f\\n'%(epoch+1,np.mean(test_accuracy)*100.0))\n",
    "    test_accuracy_over_time.append(np.mean(test_accuracy)*100)\n",
    "    \n",
    "session.close()"
   ]
  },
  {
   "cell_type": "markdown",
   "metadata": {},
   "source": [
    "### 可视化准确率"
   ]
  },
  {
   "cell_type": "code",
   "execution_count": 42,
   "metadata": {},
   "outputs": [
    {
     "data": {
      "image/png": "[encoded data removed]",
      "text/plain": [
       "<Figure size 1800x360 with 2 Axes>"
      ]
     },
     "metadata": {
      "needs_background": "light"
     },
     "output_type": "display_data"
    }
   ],
   "source": [
    "x_axis = np.arange(len(train_loss_over_time))\n",
    "\n",
    "fig, ax = plt.subplots(nrows=1, ncols=2)\n",
    "fig.set_size_inches(w=25,h=5)\n",
    "ax[0].plot(x_axis, train_loss_over_time)\n",
    "ax[0].set_xlabel('Epochs',fontsize=18)\n",
    "ax[0].set_ylabel('Average train loss',fontsize=18)\n",
    "ax[0].set_title('Training Loss over Time',fontsize=20)\n",
    "ax[1].plot(x_axis, test_accuracy_over_time)\n",
    "ax[1].set_xlabel('Epochs',fontsize=18)\n",
    "ax[1].set_ylabel('Test accuracy',fontsize=18)\n",
    "ax[1].set_title('Test Accuracy over Time',fontsize=20)\n",
    "fig.savefig('data/19/mnist_stats.jpg')"
   ]
  },
  {
   "cell_type": "code",
   "execution_count": null,
   "metadata": {},
   "outputs": [],
   "source": []
  }
 ],
 "metadata": {
  "kernelspec": {
   "display_name": "Python 3",
   "language": "python",
   "name": "python3"
  },
  "language_info": {
   "codemirror_mode": {
    "name": "ipython",
    "version": 3
   },
   "file_extension": ".py",
   "mimetype": "text/x-python",
   "name": "python",
   "nbconvert_exporter": "python",
   "pygments_lexer": "ipython3",
   "version": "3.7.3"
  }
 },
 "nbformat": 4,
 "nbformat_minor": 2
}
